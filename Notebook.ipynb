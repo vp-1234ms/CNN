{
 "cells": [
  {
   "cell_type": "code",
   "execution_count": 241,
   "metadata": {},
   "outputs": [],
   "source": [
    "from tensorflow import keras\n",
    "from keras.models import Model\n",
    "from keras.layers import Input, Conv2D,  BatchNormalization, Add, Activation, MaxPooling2D, concatenate, Flatten, Dense, AveragePooling2D\n",
    "from keras.optimizers import Adam\n",
    "from tensorflow import keras\n",
    "from keras.datasets import mnist\n",
    "from keras.layers import Conv2D, MaxPooling2D,AveragePooling2D\n",
    "from keras.layers import Dense, Flatten\n",
    "from keras.models import Sequential"
   ]
  },
  {
   "cell_type": "code",
   "execution_count": 242,
   "metadata": {},
   "outputs": [],
   "source": [
    "import os\n",
    "from PIL import Image\n",
    "import numpy as np\n",
    "from sklearn.model_selection import train_test_split"
   ]
  },
  {
   "cell_type": "code",
   "execution_count": 243,
   "metadata": {},
   "outputs": [],
   "source": [
    "# Path to the main flower dataset folder\n",
    "dataset_folder = 'flowers'\n",
    "\n",
    "# List of class names\n",
    "class_names = ['daisy', 'dandelion', 'rose', 'sunflower', 'tulip']\n",
    "\n",
    "# Load and preprocess images\n",
    "data = []\n",
    "labels = []\n",
    "\n",
    "for class_idx, class_name in enumerate(class_names):\n",
    "    class_folder = os.path.join(dataset_folder, class_name)\n",
    "    for img_file in os.listdir(class_folder):\n",
    "        img_path = os.path.join(class_folder, img_file)\n",
    "        img = Image.open(img_path)\n",
    "        img = img.resize((32, 32))\n",
    "        img_array = np.array(img)\n",
    "        data.append(img_array)\n",
    "        labels.append(class_idx)\n"
   ]
  },
  {
   "cell_type": "code",
   "execution_count": 244,
   "metadata": {},
   "outputs": [],
   "source": [
    "# Convert to numpy arrays\n",
    "data = np.array(data)\n",
    "labels = np.array(labels)\n",
    "# Split the dataset into training and testing sets\n",
    "from sklearn.model_selection import train_test_split\n",
    "\n",
    "# Split the data into training, validation, and testing sets\n",
    "x_train, x_test, y_train, y_test = train_test_split(data, labels, test_size=0.2, random_state=42, stratify=labels)\n",
    "x_train, x_val, y_train, y_val = train_test_split(x_train, y_train, test_size=0.2, random_state=42, stratify=y_train)\n"
   ]
  },
  {
   "cell_type": "code",
   "execution_count": 245,
   "metadata": {},
   "outputs": [
    {
     "name": "stdout",
     "output_type": "stream",
     "text": [
      "x_train shape: (2762, 32, 32, 3)\n",
      "y_train shape: (2762,)\n",
      "x_val shape (691, 32, 32, 3)\n",
      "y_val shape : (691,)\n",
      "x_test shape: (864, 32, 32, 3)\n",
      "y_test shape: (864,)\n"
     ]
    }
   ],
   "source": [
    "# Print the shapes of the datasets\n",
    "print(\"x_train shape:\", x_train.shape)\n",
    "print(\"y_train shape:\", y_train.shape)\n",
    "print(\"x_val shape\", x_val.shape)\n",
    "print(\"y_val shape :\", y_val.shape)\n",
    "print(\"x_test shape:\", x_test.shape)\n",
    "print(\"y_test shape:\", y_test.shape)\n"
   ]
  },
  {
   "cell_type": "code",
   "execution_count": 246,
   "metadata": {},
   "outputs": [],
   "source": [
    "x_train = x_train / 255.0\n",
    "x_val = x_val / 255.0\n",
    "x_test = x_test / 255.0"
   ]
  },
  {
   "cell_type": "code",
   "execution_count": 247,
   "metadata": {},
   "outputs": [],
   "source": [
    "# Convert labels to one-hot encoding\n",
    "y_train = keras.utils.to_categorical(y_train, 5)\n",
    "y_val = keras.utils.to_categorical(y_val, 5)\n",
    "y_test = keras.utils.to_categorical(y_test, 5)"
   ]
  },
  {
   "cell_type": "code",
   "execution_count": 248,
   "metadata": {},
   "outputs": [],
   "source": [
    "from keras.callbacks import ModelCheckpoint, EarlyStopping,ReduceLROnPlateau\n",
    "checkpoint = ModelCheckpoint('best_model1_weights.h5', monitor='val_accuracy', save_best_only=True)\n",
    "early_stopping=EarlyStopping(monitor='val_acc',mode='auto',patience=5,restore_best_weights=True)"
   ]
  },
  {
   "cell_type": "code",
   "execution_count": 249,
   "metadata": {},
   "outputs": [],
   "source": [
    "from tensorflow.keras import layers, Sequential\n",
    "from keras import applications \n",
    "from tensorflow.keras.optimizers import SGD\n",
    "from keras.layers  import Input\n",
    "from tensorflow.keras.layers import AveragePooling2D, Input, Flatten, Dense, Dropout\n",
    "from keras.models import Model\n",
    "from tensorflow.keras.optimizers import Adam"
   ]
  },
  {
   "cell_type": "code",
   "execution_count": 250,
   "metadata": {},
   "outputs": [
    {
     "name": "stdout",
     "output_type": "stream",
     "text": [
      "Model: \"sequential_15\"\n",
      "_________________________________________________________________\n",
      " Layer (type)                Output Shape              Param #   \n",
      "=================================================================\n",
      " conv2d_56 (Conv2D)          (None, 32, 32, 512)       14336     \n",
      "                                                                 \n",
      " batch_normalization_30 (Ba  (None, 32, 32, 512)       2048      \n",
      " tchNormalization)                                               \n",
      "                                                                 \n",
      " max_pooling2d_30 (MaxPooli  (None, 16, 16, 512)       0         \n",
      " ng2D)                                                           \n",
      "                                                                 \n",
      " conv2d_57 (Conv2D)          (None, 16, 16, 256)       1179904   \n",
      "                                                                 \n",
      " conv2d_58 (Conv2D)          (None, 16, 16, 256)       590080    \n",
      "                                                                 \n",
      " batch_normalization_31 (Ba  (None, 16, 16, 256)       1024      \n",
      " tchNormalization)                                               \n",
      "                                                                 \n",
      " max_pooling2d_31 (MaxPooli  (None, 8, 8, 256)         0         \n",
      " ng2D)                                                           \n",
      "                                                                 \n",
      " conv2d_59 (Conv2D)          (None, 8, 8, 128)         295040    \n",
      "                                                                 \n",
      " conv2d_60 (Conv2D)          (None, 8, 8, 128)         147584    \n",
      "                                                                 \n",
      " batch_normalization_32 (Ba  (None, 8, 8, 128)         512       \n",
      " tchNormalization)                                               \n",
      "                                                                 \n",
      " max_pooling2d_32 (MaxPooli  (None, 4, 4, 128)         0         \n",
      " ng2D)                                                           \n",
      "                                                                 \n",
      " conv2d_61 (Conv2D)          (None, 4, 4, 64)          73792     \n",
      "                                                                 \n",
      " conv2d_62 (Conv2D)          (None, 4, 4, 64)          36928     \n",
      "                                                                 \n",
      " batch_normalization_33 (Ba  (None, 4, 4, 64)          256       \n",
      " tchNormalization)                                               \n",
      "                                                                 \n",
      " max_pooling2d_33 (MaxPooli  (None, 2, 2, 64)          0         \n",
      " ng2D)                                                           \n",
      "                                                                 \n",
      " conv2d_63 (Conv2D)          (None, 2, 2, 32)          18464     \n",
      "                                                                 \n",
      " conv2d_64 (Conv2D)          (None, 2, 2, 32)          9248      \n",
      "                                                                 \n",
      " batch_normalization_34 (Ba  (None, 2, 2, 32)          128       \n",
      " tchNormalization)                                               \n",
      "                                                                 \n",
      " max_pooling2d_34 (MaxPooli  (None, 1, 1, 32)          0         \n",
      " ng2D)                                                           \n",
      "                                                                 \n",
      " flatten_7 (Flatten)         (None, 32)                0         \n",
      "                                                                 \n",
      " dense_27 (Dense)            (None, 512)               16896     \n",
      "                                                                 \n",
      " dense_28 (Dense)            (None, 256)               131328    \n",
      "                                                                 \n",
      " dense_29 (Dense)            (None, 128)               32896     \n",
      "                                                                 \n",
      " dense_30 (Dense)            (None, 5)                 645       \n",
      "                                                                 \n",
      "=================================================================\n",
      "Total params: 2551109 (9.73 MB)\n",
      "Trainable params: 2549125 (9.72 MB)\n",
      "Non-trainable params: 1984 (7.75 KB)\n",
      "_________________________________________________________________\n"
     ]
    }
   ],
   "source": [
    "#custom Model\n",
    "customModel = Sequential()\n",
    "customModel=Sequential(\n",
    "    [\n",
    "        layers.Conv2D(512,3,input_shape=(32,32,3),padding='same',activation='relu'),\n",
    "        layers.BatchNormalization(),\n",
    "        layers.MaxPooling2D(),\n",
    "        layers.Conv2D(256,3,padding='same',activation='relu'),\n",
    "        layers.Conv2D(256,3,padding='same',activation='relu'),\n",
    "        layers.BatchNormalization(),\n",
    "        layers.MaxPooling2D(),\n",
    "        layers.Conv2D(128,3,padding='same',activation='relu'),\n",
    "        layers.Conv2D(128,3,padding='same',activation='relu'),\n",
    "        layers.BatchNormalization(),\n",
    "        layers.MaxPooling2D(),\n",
    "        layers.Conv2D(64,3,padding='same',activation='relu'),\n",
    "        layers.Conv2D(64,3,padding='same',activation='relu'),\n",
    "        layers.BatchNormalization(),        \n",
    "        layers.MaxPooling2D(),\n",
    "        layers.Conv2D(32,3,padding='same',activation='relu'),\n",
    "        layers.Conv2D(32,3,padding='same',activation='relu'),\n",
    "        layers.BatchNormalization(),        \n",
    "        layers.MaxPooling2D(),\n",
    "        layers.Flatten(),\n",
    "\n",
    "        layers.Dense(512,activation='relu'),\n",
    "        layers.Dense(256,activation='relu'),\n",
    "        layers.Dense(128,activation='relu'),\n",
    "        layers.Dense(5,activation='softmax'),\n",
    "    ]\n",
    ")\n",
    "customModel.compile(optimizer='adam',\n",
    "              loss='categorical_crossentropy',\n",
    "              metrics=['accuracy'])\n",
    "customModel.summary()"
   ]
  },
  {
   "cell_type": "code",
   "execution_count": 251,
   "metadata": {},
   "outputs": [
    {
     "data": {
      "text/plain": [
       "(2762, 5)"
      ]
     },
     "execution_count": 251,
     "metadata": {},
     "output_type": "execute_result"
    }
   ],
   "source": [
    "y_train.shape"
   ]
  },
  {
   "cell_type": "code",
   "execution_count": 252,
   "metadata": {},
   "outputs": [
    {
     "name": "stdout",
     "output_type": "stream",
     "text": [
      "Epoch 1/35\n",
      "87/87 [==============================] - ETA: 0s - loss: 1.3291 - accuracy: 0.4236WARNING:tensorflow:Early stopping conditioned on metric `val_acc` which is not available. Available metrics are: loss,accuracy,val_loss,val_accuracy\n"
     ]
    },
    {
     "name": "stderr",
     "output_type": "stream",
     "text": [
      "c:\\Users\\VAIBHAV\\Downloads\\Flower Classification\\env\\Lib\\site-packages\\keras\\src\\engine\\training.py:3000: UserWarning: You are saving your model as an HDF5 file via `model.save()`. This file format is considered legacy. We recommend using instead the native Keras format, e.g. `model.save('my_model.keras')`.\n",
      "  saving_api.save_model(\n",
      "WARNING:tensorflow:Early stopping conditioned on metric `val_acc` which is not available. Available metrics are: loss,accuracy,val_loss,val_accuracy\n"
     ]
    },
    {
     "name": "stdout",
     "output_type": "stream",
     "text": [
      "87/87 [==============================] - 75s 824ms/step - loss: 1.3291 - accuracy: 0.4236 - val_loss: 1.5792 - val_accuracy: 0.2504\n",
      "Epoch 2/35\n",
      "87/87 [==============================] - ETA: 0s - loss: 1.1194 - accuracy: 0.5427WARNING:tensorflow:Early stopping conditioned on metric `val_acc` which is not available. Available metrics are: loss,accuracy,val_loss,val_accuracy\n"
     ]
    },
    {
     "name": "stderr",
     "output_type": "stream",
     "text": [
      "WARNING:tensorflow:Early stopping conditioned on metric `val_acc` which is not available. Available metrics are: loss,accuracy,val_loss,val_accuracy\n"
     ]
    },
    {
     "name": "stdout",
     "output_type": "stream",
     "text": [
      "87/87 [==============================] - 71s 821ms/step - loss: 1.1194 - accuracy: 0.5427 - val_loss: 2.0077 - val_accuracy: 0.2446\n",
      "Epoch 3/35\n",
      "87/87 [==============================] - ETA: 0s - loss: 1.0474 - accuracy: 0.5825WARNING:tensorflow:Early stopping conditioned on metric `val_acc` which is not available. Available metrics are: loss,accuracy,val_loss,val_accuracy\n"
     ]
    },
    {
     "name": "stderr",
     "output_type": "stream",
     "text": [
      "WARNING:tensorflow:Early stopping conditioned on metric `val_acc` which is not available. Available metrics are: loss,accuracy,val_loss,val_accuracy\n"
     ]
    },
    {
     "name": "stdout",
     "output_type": "stream",
     "text": [
      "87/87 [==============================] - 71s 821ms/step - loss: 1.0474 - accuracy: 0.5825 - val_loss: 2.0774 - val_accuracy: 0.2822\n",
      "Epoch 4/35\n",
      "87/87 [==============================] - ETA: 0s - loss: 0.9778 - accuracy: 0.6133WARNING:tensorflow:Early stopping conditioned on metric `val_acc` which is not available. Available metrics are: loss,accuracy,val_loss,val_accuracy\n"
     ]
    },
    {
     "name": "stderr",
     "output_type": "stream",
     "text": [
      "WARNING:tensorflow:Early stopping conditioned on metric `val_acc` which is not available. Available metrics are: loss,accuracy,val_loss,val_accuracy\n"
     ]
    },
    {
     "name": "stdout",
     "output_type": "stream",
     "text": [
      "87/87 [==============================] - 71s 822ms/step - loss: 0.9778 - accuracy: 0.6133 - val_loss: 1.5359 - val_accuracy: 0.3415\n",
      "Epoch 5/35\n",
      "87/87 [==============================] - ETA: 0s - loss: 0.9225 - accuracy: 0.6376WARNING:tensorflow:Early stopping conditioned on metric `val_acc` which is not available. Available metrics are: loss,accuracy,val_loss,val_accuracy\n"
     ]
    },
    {
     "name": "stderr",
     "output_type": "stream",
     "text": [
      "WARNING:tensorflow:Early stopping conditioned on metric `val_acc` which is not available. Available metrics are: loss,accuracy,val_loss,val_accuracy\n"
     ]
    },
    {
     "name": "stdout",
     "output_type": "stream",
     "text": [
      "87/87 [==============================] - 72s 824ms/step - loss: 0.9225 - accuracy: 0.6376 - val_loss: 1.7333 - val_accuracy: 0.3705\n",
      "Epoch 6/35\n",
      "87/87 [==============================] - ETA: 0s - loss: 0.8800 - accuracy: 0.6568WARNING:tensorflow:Early stopping conditioned on metric `val_acc` which is not available. Available metrics are: loss,accuracy,val_loss,val_accuracy\n"
     ]
    },
    {
     "name": "stderr",
     "output_type": "stream",
     "text": [
      "WARNING:tensorflow:Early stopping conditioned on metric `val_acc` which is not available. Available metrics are: loss,accuracy,val_loss,val_accuracy\n"
     ]
    },
    {
     "name": "stdout",
     "output_type": "stream",
     "text": [
      "87/87 [==============================] - 71s 813ms/step - loss: 0.8800 - accuracy: 0.6568 - val_loss: 1.1485 - val_accuracy: 0.5427\n",
      "Epoch 7/35\n",
      "87/87 [==============================] - ETA: 0s - loss: 0.8300 - accuracy: 0.6720WARNING:tensorflow:Early stopping conditioned on metric `val_acc` which is not available. Available metrics are: loss,accuracy,val_loss,val_accuracy\n"
     ]
    },
    {
     "name": "stderr",
     "output_type": "stream",
     "text": [
      "WARNING:tensorflow:Early stopping conditioned on metric `val_acc` which is not available. Available metrics are: loss,accuracy,val_loss,val_accuracy\n"
     ]
    },
    {
     "name": "stdout",
     "output_type": "stream",
     "text": [
      "87/87 [==============================] - 70s 805ms/step - loss: 0.8300 - accuracy: 0.6720 - val_loss: 1.3312 - val_accuracy: 0.5137\n",
      "Epoch 8/35\n",
      "87/87 [==============================] - ETA: 0s - loss: 0.7856 - accuracy: 0.6995WARNING:tensorflow:Early stopping conditioned on metric `val_acc` which is not available. Available metrics are: loss,accuracy,val_loss,val_accuracy\n"
     ]
    },
    {
     "name": "stderr",
     "output_type": "stream",
     "text": [
      "WARNING:tensorflow:Early stopping conditioned on metric `val_acc` which is not available. Available metrics are: loss,accuracy,val_loss,val_accuracy\n"
     ]
    },
    {
     "name": "stdout",
     "output_type": "stream",
     "text": [
      "87/87 [==============================] - 70s 804ms/step - loss: 0.7856 - accuracy: 0.6995 - val_loss: 1.2677 - val_accuracy: 0.5441\n",
      "Epoch 9/35\n",
      "87/87 [==============================] - ETA: 0s - loss: 0.7505 - accuracy: 0.7209WARNING:tensorflow:Early stopping conditioned on metric `val_acc` which is not available. Available metrics are: loss,accuracy,val_loss,val_accuracy\n"
     ]
    },
    {
     "name": "stderr",
     "output_type": "stream",
     "text": [
      "WARNING:tensorflow:Early stopping conditioned on metric `val_acc` which is not available. Available metrics are: loss,accuracy,val_loss,val_accuracy\n"
     ]
    },
    {
     "name": "stdout",
     "output_type": "stream",
     "text": [
      "87/87 [==============================] - 70s 808ms/step - loss: 0.7505 - accuracy: 0.7209 - val_loss: 1.1016 - val_accuracy: 0.5760\n",
      "Epoch 10/35\n",
      "87/87 [==============================] - ETA: 0s - loss: 0.7230 - accuracy: 0.7263WARNING:tensorflow:Early stopping conditioned on metric `val_acc` which is not available. Available metrics are: loss,accuracy,val_loss,val_accuracy\n"
     ]
    },
    {
     "name": "stderr",
     "output_type": "stream",
     "text": [
      "WARNING:tensorflow:Early stopping conditioned on metric `val_acc` which is not available. Available metrics are: loss,accuracy,val_loss,val_accuracy\n"
     ]
    },
    {
     "name": "stdout",
     "output_type": "stream",
     "text": [
      "87/87 [==============================] - 70s 805ms/step - loss: 0.7230 - accuracy: 0.7263 - val_loss: 1.2283 - val_accuracy: 0.5630\n",
      "Epoch 11/35\n",
      "87/87 [==============================] - ETA: 0s - loss: 0.6938 - accuracy: 0.7350WARNING:tensorflow:Early stopping conditioned on metric `val_acc` which is not available. Available metrics are: loss,accuracy,val_loss,val_accuracy\n"
     ]
    },
    {
     "name": "stderr",
     "output_type": "stream",
     "text": [
      "WARNING:tensorflow:Early stopping conditioned on metric `val_acc` which is not available. Available metrics are: loss,accuracy,val_loss,val_accuracy\n"
     ]
    },
    {
     "name": "stdout",
     "output_type": "stream",
     "text": [
      "87/87 [==============================] - 71s 814ms/step - loss: 0.6938 - accuracy: 0.7350 - val_loss: 2.3828 - val_accuracy: 0.4298\n",
      "Epoch 12/35\n",
      "87/87 [==============================] - ETA: 0s - loss: 0.6576 - accuracy: 0.7647WARNING:tensorflow:Early stopping conditioned on metric `val_acc` which is not available. Available metrics are: loss,accuracy,val_loss,val_accuracy\n"
     ]
    },
    {
     "name": "stderr",
     "output_type": "stream",
     "text": [
      "WARNING:tensorflow:Early stopping conditioned on metric `val_acc` which is not available. Available metrics are: loss,accuracy,val_loss,val_accuracy\n"
     ]
    },
    {
     "name": "stdout",
     "output_type": "stream",
     "text": [
      "87/87 [==============================] - 71s 815ms/step - loss: 0.6576 - accuracy: 0.7647 - val_loss: 1.1688 - val_accuracy: 0.5716\n",
      "Epoch 13/35\n",
      "87/87 [==============================] - ETA: 0s - loss: 0.5913 - accuracy: 0.7820WARNING:tensorflow:Early stopping conditioned on metric `val_acc` which is not available. Available metrics are: loss,accuracy,val_loss,val_accuracy\n"
     ]
    },
    {
     "name": "stderr",
     "output_type": "stream",
     "text": [
      "WARNING:tensorflow:Early stopping conditioned on metric `val_acc` which is not available. Available metrics are: loss,accuracy,val_loss,val_accuracy\n"
     ]
    },
    {
     "name": "stdout",
     "output_type": "stream",
     "text": [
      "87/87 [==============================] - 70s 808ms/step - loss: 0.5913 - accuracy: 0.7820 - val_loss: 1.1434 - val_accuracy: 0.5847\n",
      "Epoch 14/35\n",
      "87/87 [==============================] - ETA: 0s - loss: 0.5352 - accuracy: 0.8023WARNING:tensorflow:Early stopping conditioned on metric `val_acc` which is not available. Available metrics are: loss,accuracy,val_loss,val_accuracy\n"
     ]
    },
    {
     "name": "stderr",
     "output_type": "stream",
     "text": [
      "WARNING:tensorflow:Early stopping conditioned on metric `val_acc` which is not available. Available metrics are: loss,accuracy,val_loss,val_accuracy\n"
     ]
    },
    {
     "name": "stdout",
     "output_type": "stream",
     "text": [
      "87/87 [==============================] - 71s 814ms/step - loss: 0.5352 - accuracy: 0.8023 - val_loss: 1.2248 - val_accuracy: 0.6151\n",
      "Epoch 15/35\n",
      "87/87 [==============================] - ETA: 0s - loss: 0.5285 - accuracy: 0.8106WARNING:tensorflow:Early stopping conditioned on metric `val_acc` which is not available. Available metrics are: loss,accuracy,val_loss,val_accuracy\n"
     ]
    },
    {
     "name": "stderr",
     "output_type": "stream",
     "text": [
      "WARNING:tensorflow:Early stopping conditioned on metric `val_acc` which is not available. Available metrics are: loss,accuracy,val_loss,val_accuracy\n"
     ]
    },
    {
     "name": "stdout",
     "output_type": "stream",
     "text": [
      "87/87 [==============================] - 71s 819ms/step - loss: 0.5285 - accuracy: 0.8106 - val_loss: 1.7870 - val_accuracy: 0.5745\n",
      "Epoch 16/35\n",
      "87/87 [==============================] - ETA: 0s - loss: 0.4623 - accuracy: 0.8331WARNING:tensorflow:Early stopping conditioned on metric `val_acc` which is not available. Available metrics are: loss,accuracy,val_loss,val_accuracy\n"
     ]
    },
    {
     "name": "stderr",
     "output_type": "stream",
     "text": [
      "WARNING:tensorflow:Early stopping conditioned on metric `val_acc` which is not available. Available metrics are: loss,accuracy,val_loss,val_accuracy\n"
     ]
    },
    {
     "name": "stdout",
     "output_type": "stream",
     "text": [
      "87/87 [==============================] - 69s 792ms/step - loss: 0.4623 - accuracy: 0.8331 - val_loss: 1.0293 - val_accuracy: 0.6498\n",
      "Epoch 17/35\n",
      "87/87 [==============================] - ETA: 0s - loss: 0.4702 - accuracy: 0.8371WARNING:tensorflow:Early stopping conditioned on metric `val_acc` which is not available. Available metrics are: loss,accuracy,val_loss,val_accuracy\n"
     ]
    },
    {
     "name": "stderr",
     "output_type": "stream",
     "text": [
      "WARNING:tensorflow:Early stopping conditioned on metric `val_acc` which is not available. Available metrics are: loss,accuracy,val_loss,val_accuracy\n"
     ]
    },
    {
     "name": "stdout",
     "output_type": "stream",
     "text": [
      "87/87 [==============================] - 93s 1s/step - loss: 0.4702 - accuracy: 0.8371 - val_loss: 1.1420 - val_accuracy: 0.6049\n",
      "Epoch 18/35\n",
      "87/87 [==============================] - ETA: 0s - loss: 0.3681 - accuracy: 0.8707WARNING:tensorflow:Early stopping conditioned on metric `val_acc` which is not available. Available metrics are: loss,accuracy,val_loss,val_accuracy\n"
     ]
    },
    {
     "name": "stderr",
     "output_type": "stream",
     "text": [
      "WARNING:tensorflow:Early stopping conditioned on metric `val_acc` which is not available. Available metrics are: loss,accuracy,val_loss,val_accuracy\n"
     ]
    },
    {
     "name": "stdout",
     "output_type": "stream",
     "text": [
      "87/87 [==============================] - 99s 1s/step - loss: 0.3681 - accuracy: 0.8707 - val_loss: 1.2776 - val_accuracy: 0.6483\n",
      "Epoch 19/35\n",
      "87/87 [==============================] - ETA: 0s - loss: 0.3527 - accuracy: 0.8758WARNING:tensorflow:Early stopping conditioned on metric `val_acc` which is not available. Available metrics are: loss,accuracy,val_loss,val_accuracy\n"
     ]
    },
    {
     "name": "stderr",
     "output_type": "stream",
     "text": [
      "WARNING:tensorflow:Early stopping conditioned on metric `val_acc` which is not available. Available metrics are: loss,accuracy,val_loss,val_accuracy\n"
     ]
    },
    {
     "name": "stdout",
     "output_type": "stream",
     "text": [
      "87/87 [==============================] - 97s 1s/step - loss: 0.3527 - accuracy: 0.8758 - val_loss: 1.7347 - val_accuracy: 0.5904\n",
      "Epoch 20/35\n",
      "87/87 [==============================] - ETA: 0s - loss: 0.2984 - accuracy: 0.8983WARNING:tensorflow:Early stopping conditioned on metric `val_acc` which is not available. Available metrics are: loss,accuracy,val_loss,val_accuracy\n"
     ]
    },
    {
     "name": "stderr",
     "output_type": "stream",
     "text": [
      "WARNING:tensorflow:Early stopping conditioned on metric `val_acc` which is not available. Available metrics are: loss,accuracy,val_loss,val_accuracy\n"
     ]
    },
    {
     "name": "stdout",
     "output_type": "stream",
     "text": [
      "87/87 [==============================] - 96s 1s/step - loss: 0.2984 - accuracy: 0.8983 - val_loss: 1.2027 - val_accuracy: 0.6223\n",
      "Epoch 21/35\n",
      "87/87 [==============================] - ETA: 0s - loss: 0.2745 - accuracy: 0.9037WARNING:tensorflow:Early stopping conditioned on metric `val_acc` which is not available. Available metrics are: loss,accuracy,val_loss,val_accuracy\n"
     ]
    },
    {
     "name": "stderr",
     "output_type": "stream",
     "text": [
      "WARNING:tensorflow:Early stopping conditioned on metric `val_acc` which is not available. Available metrics are: loss,accuracy,val_loss,val_accuracy\n"
     ]
    },
    {
     "name": "stdout",
     "output_type": "stream",
     "text": [
      "87/87 [==============================] - 98s 1s/step - loss: 0.2745 - accuracy: 0.9037 - val_loss: 1.3286 - val_accuracy: 0.6397\n",
      "Epoch 22/35\n",
      "87/87 [==============================] - ETA: 0s - loss: 0.2465 - accuracy: 0.9203WARNING:tensorflow:Early stopping conditioned on metric `val_acc` which is not available. Available metrics are: loss,accuracy,val_loss,val_accuracy\n"
     ]
    },
    {
     "name": "stderr",
     "output_type": "stream",
     "text": [
      "WARNING:tensorflow:Early stopping conditioned on metric `val_acc` which is not available. Available metrics are: loss,accuracy,val_loss,val_accuracy\n"
     ]
    },
    {
     "name": "stdout",
     "output_type": "stream",
     "text": [
      "87/87 [==============================] - 93s 1s/step - loss: 0.2465 - accuracy: 0.9203 - val_loss: 1.1916 - val_accuracy: 0.6628\n",
      "Epoch 23/35\n",
      "87/87 [==============================] - ETA: 0s - loss: 0.1507 - accuracy: 0.9508WARNING:tensorflow:Early stopping conditioned on metric `val_acc` which is not available. Available metrics are: loss,accuracy,val_loss,val_accuracy\n"
     ]
    },
    {
     "name": "stderr",
     "output_type": "stream",
     "text": [
      "WARNING:tensorflow:Early stopping conditioned on metric `val_acc` which is not available. Available metrics are: loss,accuracy,val_loss,val_accuracy\n"
     ]
    },
    {
     "name": "stdout",
     "output_type": "stream",
     "text": [
      "87/87 [==============================] - 90s 1s/step - loss: 0.1507 - accuracy: 0.9508 - val_loss: 1.5401 - val_accuracy: 0.6425\n",
      "Epoch 24/35\n",
      "87/87 [==============================] - ETA: 0s - loss: 0.1416 - accuracy: 0.9518WARNING:tensorflow:Early stopping conditioned on metric `val_acc` which is not available. Available metrics are: loss,accuracy,val_loss,val_accuracy\n"
     ]
    },
    {
     "name": "stderr",
     "output_type": "stream",
     "text": [
      "WARNING:tensorflow:Early stopping conditioned on metric `val_acc` which is not available. Available metrics are: loss,accuracy,val_loss,val_accuracy\n"
     ]
    },
    {
     "name": "stdout",
     "output_type": "stream",
     "text": [
      "87/87 [==============================] - 94s 1s/step - loss: 0.1416 - accuracy: 0.9518 - val_loss: 1.3398 - val_accuracy: 0.6874\n",
      "Epoch 25/35\n",
      "87/87 [==============================] - ETA: 0s - loss: 0.1805 - accuracy: 0.9442WARNING:tensorflow:Early stopping conditioned on metric `val_acc` which is not available. Available metrics are: loss,accuracy,val_loss,val_accuracy\n"
     ]
    },
    {
     "name": "stderr",
     "output_type": "stream",
     "text": [
      "WARNING:tensorflow:Early stopping conditioned on metric `val_acc` which is not available. Available metrics are: loss,accuracy,val_loss,val_accuracy\n"
     ]
    },
    {
     "name": "stdout",
     "output_type": "stream",
     "text": [
      "87/87 [==============================] - 93s 1s/step - loss: 0.1805 - accuracy: 0.9442 - val_loss: 1.6010 - val_accuracy: 0.5991\n",
      "Epoch 26/35\n",
      "87/87 [==============================] - ETA: 0s - loss: 0.1676 - accuracy: 0.9435WARNING:tensorflow:Early stopping conditioned on metric `val_acc` which is not available. Available metrics are: loss,accuracy,val_loss,val_accuracy\n"
     ]
    },
    {
     "name": "stderr",
     "output_type": "stream",
     "text": [
      "WARNING:tensorflow:Early stopping conditioned on metric `val_acc` which is not available. Available metrics are: loss,accuracy,val_loss,val_accuracy\n"
     ]
    },
    {
     "name": "stdout",
     "output_type": "stream",
     "text": [
      "87/87 [==============================] - 95s 1s/step - loss: 0.1676 - accuracy: 0.9435 - val_loss: 1.3395 - val_accuracy: 0.6498\n",
      "Epoch 27/35\n",
      "87/87 [==============================] - ETA: 0s - loss: 0.1147 - accuracy: 0.9631WARNING:tensorflow:Early stopping conditioned on metric `val_acc` which is not available. Available metrics are: loss,accuracy,val_loss,val_accuracy\n"
     ]
    },
    {
     "name": "stderr",
     "output_type": "stream",
     "text": [
      "WARNING:tensorflow:Early stopping conditioned on metric `val_acc` which is not available. Available metrics are: loss,accuracy,val_loss,val_accuracy\n"
     ]
    },
    {
     "name": "stdout",
     "output_type": "stream",
     "text": [
      "87/87 [==============================] - 87s 1s/step - loss: 0.1147 - accuracy: 0.9631 - val_loss: 1.7702 - val_accuracy: 0.5890\n",
      "Epoch 28/35\n",
      "87/87 [==============================] - ETA: 0s - loss: 0.1788 - accuracy: 0.9377WARNING:tensorflow:Early stopping conditioned on metric `val_acc` which is not available. Available metrics are: loss,accuracy,val_loss,val_accuracy\n"
     ]
    },
    {
     "name": "stderr",
     "output_type": "stream",
     "text": [
      "WARNING:tensorflow:Early stopping conditioned on metric `val_acc` which is not available. Available metrics are: loss,accuracy,val_loss,val_accuracy\n"
     ]
    },
    {
     "name": "stdout",
     "output_type": "stream",
     "text": [
      "87/87 [==============================] - 105s 1s/step - loss: 0.1788 - accuracy: 0.9377 - val_loss: 1.9636 - val_accuracy: 0.5673\n",
      "Epoch 29/35\n",
      "87/87 [==============================] - ETA: 0s - loss: 0.1175 - accuracy: 0.9663WARNING:tensorflow:Early stopping conditioned on metric `val_acc` which is not available. Available metrics are: loss,accuracy,val_loss,val_accuracy\n"
     ]
    },
    {
     "name": "stderr",
     "output_type": "stream",
     "text": [
      "WARNING:tensorflow:Early stopping conditioned on metric `val_acc` which is not available. Available metrics are: loss,accuracy,val_loss,val_accuracy\n"
     ]
    },
    {
     "name": "stdout",
     "output_type": "stream",
     "text": [
      "87/87 [==============================] - 105s 1s/step - loss: 0.1175 - accuracy: 0.9663 - val_loss: 1.4890 - val_accuracy: 0.6541\n",
      "Epoch 30/35\n",
      "87/87 [==============================] - ETA: 0s - loss: 0.1163 - accuracy: 0.9594WARNING:tensorflow:Early stopping conditioned on metric `val_acc` which is not available. Available metrics are: loss,accuracy,val_loss,val_accuracy\n"
     ]
    },
    {
     "name": "stderr",
     "output_type": "stream",
     "text": [
      "WARNING:tensorflow:Early stopping conditioned on metric `val_acc` which is not available. Available metrics are: loss,accuracy,val_loss,val_accuracy\n"
     ]
    },
    {
     "name": "stdout",
     "output_type": "stream",
     "text": [
      "87/87 [==============================] - 110s 1s/step - loss: 0.1163 - accuracy: 0.9594 - val_loss: 1.3900 - val_accuracy: 0.6498\n",
      "Epoch 31/35\n",
      "87/87 [==============================] - ETA: 0s - loss: 0.0922 - accuracy: 0.9710WARNING:tensorflow:Early stopping conditioned on metric `val_acc` which is not available. Available metrics are: loss,accuracy,val_loss,val_accuracy\n"
     ]
    },
    {
     "name": "stderr",
     "output_type": "stream",
     "text": [
      "WARNING:tensorflow:Early stopping conditioned on metric `val_acc` which is not available. Available metrics are: loss,accuracy,val_loss,val_accuracy\n"
     ]
    },
    {
     "name": "stdout",
     "output_type": "stream",
     "text": [
      "87/87 [==============================] - 106s 1s/step - loss: 0.0922 - accuracy: 0.9710 - val_loss: 1.8230 - val_accuracy: 0.6512\n",
      "Epoch 32/35\n",
      "87/87 [==============================] - ETA: 0s - loss: 0.1079 - accuracy: 0.9642WARNING:tensorflow:Early stopping conditioned on metric `val_acc` which is not available. Available metrics are: loss,accuracy,val_loss,val_accuracy\n"
     ]
    },
    {
     "name": "stderr",
     "output_type": "stream",
     "text": [
      "WARNING:tensorflow:Early stopping conditioned on metric `val_acc` which is not available. Available metrics are: loss,accuracy,val_loss,val_accuracy\n"
     ]
    },
    {
     "name": "stdout",
     "output_type": "stream",
     "text": [
      "87/87 [==============================] - 105s 1s/step - loss: 0.1079 - accuracy: 0.9642 - val_loss: 1.4108 - val_accuracy: 0.6787\n",
      "Epoch 33/35\n",
      "87/87 [==============================] - ETA: 0s - loss: 0.0784 - accuracy: 0.9750WARNING:tensorflow:Early stopping conditioned on metric `val_acc` which is not available. Available metrics are: loss,accuracy,val_loss,val_accuracy\n"
     ]
    },
    {
     "name": "stderr",
     "output_type": "stream",
     "text": [
      "WARNING:tensorflow:Early stopping conditioned on metric `val_acc` which is not available. Available metrics are: loss,accuracy,val_loss,val_accuracy\n"
     ]
    },
    {
     "name": "stdout",
     "output_type": "stream",
     "text": [
      "87/87 [==============================] - 102s 1s/step - loss: 0.0784 - accuracy: 0.9750 - val_loss: 1.7243 - val_accuracy: 0.6397\n",
      "Epoch 34/35\n",
      "87/87 [==============================] - ETA: 0s - loss: 0.0597 - accuracy: 0.9833WARNING:tensorflow:Early stopping conditioned on metric `val_acc` which is not available. Available metrics are: loss,accuracy,val_loss,val_accuracy\n"
     ]
    },
    {
     "name": "stderr",
     "output_type": "stream",
     "text": [
      "WARNING:tensorflow:Early stopping conditioned on metric `val_acc` which is not available. Available metrics are: loss,accuracy,val_loss,val_accuracy\n"
     ]
    },
    {
     "name": "stdout",
     "output_type": "stream",
     "text": [
      "87/87 [==============================] - 104s 1s/step - loss: 0.0597 - accuracy: 0.9833 - val_loss: 1.8537 - val_accuracy: 0.6295\n",
      "Epoch 35/35\n",
      "87/87 [==============================] - ETA: 0s - loss: 0.0832 - accuracy: 0.9750WARNING:tensorflow:Early stopping conditioned on metric `val_acc` which is not available. Available metrics are: loss,accuracy,val_loss,val_accuracy\n"
     ]
    },
    {
     "name": "stderr",
     "output_type": "stream",
     "text": [
      "WARNING:tensorflow:Early stopping conditioned on metric `val_acc` which is not available. Available metrics are: loss,accuracy,val_loss,val_accuracy\n"
     ]
    },
    {
     "name": "stdout",
     "output_type": "stream",
     "text": [
      "87/87 [==============================] - 93s 1s/step - loss: 0.0832 - accuracy: 0.9750 - val_loss: 1.8753 - val_accuracy: 0.6512\n"
     ]
    }
   ],
   "source": [
    "history = customModel.fit(\n",
    "    x_train,y_train,\n",
    "    epochs=35,\n",
    "    validation_data=(x_val, y_val),\n",
    "    callbacks=[checkpoint,early_stopping])\n",
    "\n",
    "# history.compile(loss=keras.metrics.categorical_crossentropy, optimizer=keras.optimizers.Adam(), metrics=['accuracy'])\n",
    "# customModel.fit(x_train, y_train, batch_size=128, epochs=10, verbose=1, validation_data=(x_test, y_test))"
   ]
  },
  {
   "cell_type": "code",
   "execution_count": 253,
   "metadata": {},
   "outputs": [
    {
     "name": "stdout",
     "output_type": "stream",
     "text": [
      "22/22 [==============================] - 7s 307ms/step - loss: 1.8753 - accuracy: 0.6512\n",
      "Validation accuracy :  0.6512300968170166\n"
     ]
    }
   ],
   "source": [
    "val_loss, val_acc = customModel.evaluate(x_val,y_val)\n",
    "print('Validation accuracy : ', val_acc)"
   ]
  },
  {
   "cell_type": "code",
   "execution_count": 254,
   "metadata": {},
   "outputs": [
    {
     "data": {
      "image/png": "[encoded data removed]",
      "text/plain": [
       "<Figure size 800x800 with 2 Axes>"
      ]
     },
     "metadata": {},
     "output_type": "display_data"
    }
   ],
   "source": [
    "acc = history.history['accuracy']\n",
    "val_acc = history.history['val_accuracy']\n",
    "\n",
    "loss = history.history['loss']\n",
    "val_loss = history.history['val_loss']\n",
    "\n",
    "\n",
    "plt.figure(figsize=(8, 8))\n",
    "plt.subplot(2, 1, 1)\n",
    "plt.plot(acc, label='Training Accuracy')\n",
    "plt.plot(val_acc, label='Validation Accuracy')\n",
    "plt.legend(loc='lower right')\n",
    "plt.ylabel('Accuracy')\n",
    "plt.ylim([min(plt.ylim()),1])\n",
    "plt.title('Training and Validation Accuracy')\n",
    "plt.subplot(2, 1, 2)\n",
    "plt.plot(loss, label='Training Loss')\n",
    "plt.plot(val_loss, label='Validation Loss')\n",
    "plt.legend(loc='upper right')\n",
    "plt.ylabel('Cross Entropy')\n",
    "plt.ylim([0,max(plt.ylim())])\n",
    "plt.title('Training and Validation Loss')\n",
    "plt.show()"
   ]
  },
  {
   "cell_type": "code",
   "execution_count": 255,
   "metadata": {},
   "outputs": [],
   "source": [
    "import pandas as pd\n",
    "import seaborn as sns"
   ]
  },
  {
   "cell_type": "code",
   "execution_count": 256,
   "metadata": {},
   "outputs": [
    {
     "name": "stdout",
     "output_type": "stream",
     "text": [
      "22/22 [==============================] - 7s 247ms/step\n"
     ]
    },
    {
     "data": {
      "image/png": "[encoded data removed]",
      "text/plain": [
       "<Figure size 1200x1000 with 2 Axes>"
      ]
     },
     "metadata": {},
     "output_type": "display_data"
    },
    {
     "name": "stdout",
     "output_type": "stream",
     "text": [
      "              precision    recall  f1-score   support\n",
      "\n",
      "           0       0.77      0.56      0.65       122\n",
      "           1       0.66      0.78      0.71       169\n",
      "           2       0.47      0.61      0.53       125\n",
      "           3       0.84      0.72      0.77       117\n",
      "           4       0.63      0.58      0.60       158\n",
      "\n",
      "    accuracy                           0.65       691\n",
      "   macro avg       0.68      0.65      0.65       691\n",
      "weighted avg       0.67      0.65      0.65       691\n",
      "\n"
     ]
    }
   ],
   "source": [
    "from sklearn.metrics import confusion_matrix,classification_report\n",
    "valid_pres=customModel.predict(x_val)\n",
    "valid_pred = [np.argmax(pred) for pred in valid_pres]\n",
    "y_val = np.argmax(y_val, axis=1)\n",
    "cm =confusion_matrix(y_val,valid_pred)\n",
    "plt.figure(figsize = (12, 10))\n",
    "cm = pd.DataFrame(cm , index = [i for i in class_names] , columns = [i for i in class_names])\n",
    "#cm = cm.astype('float') / cm.sum(axis=1)[:, np.newaxis]\n",
    "sns.heatmap(cm, linecolor='white', cmap='Blues', linewidth=1, annot=True, fmt='.2f')\n",
    "plt.title('Confusion Matrix', size=20)\n",
    "plt.xlabel('Predicted Labels', size=14)\n",
    "plt.ylabel('Actual Labels', size=14)\n",
    "plt.show()\n",
    "print(classification_report(y_val,valid_pred))"
   ]
  },
  {
   "cell_type": "code",
   "execution_count": 257,
   "metadata": {},
   "outputs": [
    {
     "name": "stdout",
     "output_type": "stream",
     "text": [
      "27/27 [==============================] - 7s 228ms/step - loss: 1.7950 - accuracy: 0.6516\n"
     ]
    }
   ],
   "source": [
    "score = customModel.evaluate(x_test, y_test)"
   ]
  },
  {
   "cell_type": "code",
   "execution_count": 258,
   "metadata": {},
   "outputs": [
    {
     "name": "stdout",
     "output_type": "stream",
     "text": [
      "Test Loss: 1.7949953079223633\n",
      "Test accuracy: 0.6516203880310059\n"
     ]
    }
   ],
   "source": [
    "print('Test Loss:', score[0])\n",
    "print('Test accuracy:', score[1])"
   ]
  },
  {
   "cell_type": "markdown",
   "metadata": {},
   "source": [
    "#### Save Model"
   ]
  },
  {
   "cell_type": "code",
   "execution_count": 259,
   "metadata": {},
   "outputs": [
    {
     "name": "stdout",
     "output_type": "stream",
     "text": [
      "INFO:tensorflow:Assets written to: Saved_Model\\assets\n"
     ]
    },
    {
     "name": "stderr",
     "output_type": "stream",
     "text": [
      "INFO:tensorflow:Assets written to: Saved_Model\\assets\n"
     ]
    }
   ],
   "source": [
    "customModel.save('Saved_Model')"
   ]
  },
  {
   "cell_type": "markdown",
   "metadata": {},
   "source": [
    "#### Load Model"
   ]
  },
  {
   "cell_type": "code",
   "execution_count": 263,
   "metadata": {},
   "outputs": [],
   "source": [
    "import tensorflow as tf\n",
    "import numpy as np\n",
    "from PIL import Image\n",
    "import tensorflow as tf\n",
    "model = tf.keras.models.load_model('Saved_Model')\n"
   ]
  },
  {
   "cell_type": "markdown",
   "metadata": {},
   "source": [
    "#### Predict Image"
   ]
  },
  {
   "cell_type": "code",
   "execution_count": 264,
   "metadata": {},
   "outputs": [],
   "source": [
    "def preprocess_image(image_path):\n",
    "    img = Image.open(image_path)\n",
    "    img = img.resize((32, 32))\n",
    "    \n",
    "    # Convert to RGB in case the image has an alpha channel\n",
    "    img = img.convert('RGB')\n",
    "    \n",
    "    img_array = np.array(img)\n",
    "    img_array = img_array.astype('float32') / 255.0\n",
    "    img_array = np.expand_dims(img_array, axis=0)\n",
    "    return img_array\n"
   ]
  },
  {
   "cell_type": "code",
   "execution_count": 265,
   "metadata": {},
   "outputs": [],
   "source": [
    "# Class names \n",
    "class_names = ['daisy', 'dandelion', 'rose', 'sunflower', 'tulip']"
   ]
  },
  {
   "cell_type": "code",
   "execution_count": 270,
   "metadata": {},
   "outputs": [
    {
     "name": "stdout",
     "output_type": "stream",
     "text": [
      "1/1 [==============================] - 1s 522ms/step\n",
      "Predicted class: rose\n"
     ]
    }
   ],
   "source": [
    "# Predict the class\n",
    "image_path = 'flowers/rose/12240303_80d87f77a3_n.jpg'\n",
    "input_image = preprocess_image(image_path)\n",
    "predictions = model.predict(input_image)\n",
    "\n",
    "predicted_class = np.argmax(predictions)\n",
    "predicted_class_name = class_names[predicted_class]\n",
    "\n",
    "print(\"Predicted class:\", predicted_class_name)"
   ]
  },
  {
   "cell_type": "code",
   "execution_count": null,
   "metadata": {},
   "outputs": [],
   "source": []
  }
 ],
 "metadata": {
  "language_info": {
   "name": "python"
  },
  "orig_nbformat": 4
 },
 "nbformat": 4,
 "nbformat_minor": 2
}
